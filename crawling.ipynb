{
 "cells": [
  {
   "cell_type": "markdown",
   "id": "dac46331-e829-487b-ada6-b736cdc1f24a",
   "metadata": {},
   "source": [
    "## Crawl Help Page"
   ]
  },
  {
   "cell_type": "code",
   "execution_count": 1,
   "id": "1378a4e1-c361-436f-b383-23395139e6d3",
   "metadata": {},
   "outputs": [],
   "source": [
    "import re\n",
    "import requests\n",
    "\n",
    "import lxml.html as lhtml\n",
    "\n",
    "from tqdm.auto import tqdm"
   ]
  },
  {
   "cell_type": "code",
   "execution_count": 2,
   "id": "5b0ade9f-b380-4e7d-b333-cc1802d07949",
   "metadata": {},
   "outputs": [],
   "source": [
    "from collections import deque\n",
    "\n",
    "prefixes = [\n",
    "    '/bank/help/',\n",
    "    '/invest/help/',\n",
    "    '/insurance/help/',\n",
    "    '/travel/help/',\n",
    "    '/gorod/help/',\n",
    "    '/help/sim-cards/',\n",
    "]\n",
    "\n",
    "hrefs_queue = deque()\n",
    "hrefs_queue.extend(prefixes)"
   ]
  },
  {
   "cell_type": "code",
   "execution_count": 3,
   "id": "f49ca627-1910-4b5c-a027-ede0ccbd33c4",
   "metadata": {},
   "outputs": [
    {
     "data": {
      "application/vnd.jupyter.widget-view+json": {
       "model_id": "fa2e8f6dcb194c0ea9f59dbb82acfaeb",
       "version_major": 2,
       "version_minor": 0
      },
      "text/plain": [
       "0it [00:00, ?it/s]"
      ]
     },
     "metadata": {},
     "output_type": "display_data"
    },
    {
     "name": "stdout",
     "output_type": "stream",
     "text": [
      "https://notariat.ru/ru-ru/help/probate-cases/\n",
      "https://www.gosuslugi.ru/help/faq/traffic_accident/102098\n",
      "https://dolyame.ru/help/customer/about/\n"
     ]
    }
   ],
   "source": [
    "hrefs_visited = set()\n",
    "\n",
    "\n",
    "def match_href(href, prefixes):\n",
    "    return any(href.startswith(p) for p in prefixes)\n",
    "\n",
    "\n",
    "def preprocess_href(href):\n",
    "    href = href.strip()\n",
    "    href = re.sub(r'^(https?://)?(www\\.)?tinkoff\\.ru', '', href)\n",
    "    href = re.sub(r'/[?#](.*?)$', '/', href)\n",
    "    if not href.startswith('/'):\n",
    "        print(href)\n",
    "        href = '/help/'\n",
    "    return href\n",
    "\n",
    "\n",
    "with tqdm() as pbar:\n",
    "    while hrefs_queue:\n",
    "        href = hrefs_queue.pop()\n",
    "        if href in hrefs_visited:\n",
    "            continue\n",
    "\n",
    "        hrefs_visited.add(href)\n",
    "\n",
    "        href = 'https://www.tinkoff.ru' + href\n",
    "        page = requests.get(href)\n",
    "\n",
    "        text = page.content.decode('utf8')\n",
    "        tree = lhtml.fromstring(text)\n",
    "\n",
    "        hrefs = tree.xpath('//a[contains(@href, \"/help/\")]/@href')\n",
    "        hrefs = [preprocess_href(href) for href in hrefs]\n",
    "        hrefs = [href for href in hrefs if match_href(href, prefixes=prefixes)]\n",
    "        hrefs = sorted(set(hrefs))\n",
    "\n",
    "        hrefs_queue.extend(hrefs)\n",
    "\n",
    "        pbar.update(1)"
   ]
  },
  {
   "cell_type": "code",
   "execution_count": 4,
   "id": "35891366-712b-4db0-aee0-9389c6efc34f",
   "metadata": {},
   "outputs": [
    {
     "data": {
      "text/plain": [
       "(1414, 0)"
      ]
     },
     "execution_count": 4,
     "metadata": {},
     "output_type": "execute_result"
    }
   ],
   "source": [
    "len(hrefs_visited), len(hrefs_queue)"
   ]
  },
  {
   "cell_type": "code",
   "execution_count": 5,
   "id": "51ef0cf9-2db8-4cc6-a84d-09bda5fa823a",
   "metadata": {},
   "outputs": [],
   "source": [
    "class Node:\n",
    "    def __init__(self, ch=None, is_terminal=False):\n",
    "        self.ch = ch\n",
    "        self.is_terminal = is_terminal\n",
    "        self.children = {}\n",
    "\n",
    "class Trie:\n",
    "    def __init__(self):\n",
    "        self.root = Node('')\n",
    "    \n",
    "    def add(self, word):\n",
    "        node = self.root\n",
    "        for w in word:\n",
    "            if w not in node.children:\n",
    "                node.children[w] = Node(w)\n",
    "            node = node.children[w]\n",
    "        node.is_terminal = True\n",
    "        return node"
   ]
  },
  {
   "cell_type": "code",
   "execution_count": 6,
   "id": "5ad38d34-cb77-453c-9302-083ee976e903",
   "metadata": {},
   "outputs": [],
   "source": [
    "trie = Trie()\n",
    "\n",
    "for w in sorted(hrefs_visited):\n",
    "    w = w.strip('/').split('/')\n",
    "    trie.add(w)"
   ]
  },
  {
   "cell_type": "code",
   "execution_count": 7,
   "id": "d8b7d839-621b-487a-a709-d4fffa07f484",
   "metadata": {},
   "outputs": [],
   "source": [
    "def find_terminal(node, prefix=None, only_leaf=False):\n",
    "    if prefix is None:\n",
    "        prefix = []\n",
    "\n",
    "    prefix.append(node.ch)\n",
    "    if node.is_terminal:\n",
    "        if only_leaf and len(node.children) > 0:\n",
    "            pass\n",
    "        else:\n",
    "            yield list(prefix)\n",
    "    \n",
    "    for k, v in node.children.items():\n",
    "        yield from find_terminal(v, prefix=prefix, only_leaf=only_leaf)\n",
    "    \n",
    "    prefix.pop()"
   ]
  },
  {
   "cell_type": "code",
   "execution_count": 8,
   "id": "1b8ccaf2-3bf4-4cd3-bdc6-062eb7f94e63",
   "metadata": {
    "tags": []
   },
   "outputs": [
    {
     "data": {
      "text/plain": [
       "1109"
      ]
     },
     "execution_count": 8,
     "metadata": {},
     "output_type": "execute_result"
    }
   ],
   "source": [
    "len(list(find_terminal(trie.root, only_leaf=True)))"
   ]
  },
  {
   "cell_type": "code",
   "execution_count": 9,
   "id": "25167370-0c28-4102-8468-b5cae1b01f56",
   "metadata": {},
   "outputs": [],
   "source": [
    "hrefs = find_terminal(trie.root, only_leaf=True)\n",
    "hrefs = ['/'.join(href) for href in hrefs]\n",
    "print(*hrefs, sep='\\n', file=open('href_all_help.txt', mode='w'))"
   ]
  },
  {
   "cell_type": "markdown",
   "id": "65899030-742c-4090-9537-5163c1d4ed17",
   "metadata": {},
   "source": [
    "## Download Crawled Pages"
   ]
  },
  {
   "cell_type": "code",
   "execution_count": 10,
   "id": "bbcf54d3-15a9-4687-8f68-590413aae06a",
   "metadata": {},
   "outputs": [],
   "source": [
    "from pathlib import Path\n",
    "from multiprocessing.dummy import Pool as ThreadPool\n",
    "from functools import partial"
   ]
  },
  {
   "cell_type": "code",
   "execution_count": 11,
   "id": "85b1da85-0103-4a15-861a-fc1ab2516838",
   "metadata": {},
   "outputs": [],
   "source": [
    "DATA_PATH = Path(\"data\")\n",
    "DATA_PATH.mkdir(exist_ok=True)"
   ]
  },
  {
   "cell_type": "code",
   "execution_count": 12,
   "id": "7c427bd0-6bc9-4677-9cf0-0081df240fa9",
   "metadata": {},
   "outputs": [],
   "source": [
    "hrefs = list(map(str.strip, open('href_all_help.txt')))"
   ]
  },
  {
   "cell_type": "code",
   "execution_count": 13,
   "id": "f42dc8f7-1419-4ce8-83d5-0d63c47c94b3",
   "metadata": {},
   "outputs": [],
   "source": [
    "def download_page(path, workdir):\n",
    "    href = \"https://www.tinkoff.ru\" + path\n",
    "    page = requests.get(href)\n",
    "    text = page.content.decode('utf8')\n",
    "\n",
    "    path = Path(workdir + path)\n",
    "    path.parent.mkdir(parents=True, exist_ok=True)\n",
    "    print(text, file=path.open('w'))\n",
    "\n",
    "\n",
    "download_page(hrefs[0], workdir=str(DATA_PATH))"
   ]
  },
  {
   "cell_type": "code",
   "execution_count": 14,
   "id": "21eabe87-9aa1-4ca9-b03d-a93b800e9f5e",
   "metadata": {},
   "outputs": [],
   "source": [
    "with ThreadPool(processes=8) as pool:\n",
    "    func_download_page = partial(download_page, workdir=str(DATA_PATH))\n",
    "    pool.map(func_download_page, hrefs)"
   ]
  },
  {
   "cell_type": "markdown",
   "id": "5d3e8e9f-0d3a-4e0b-82cc-ec2acc0886ce",
   "metadata": {},
   "source": [
    "## Parse Pages"
   ]
  },
  {
   "cell_type": "code",
   "execution_count": 15,
   "id": "33619971-c36d-4821-a8f1-1fdcf1a59b4a",
   "metadata": {},
   "outputs": [],
   "source": [
    "import orjson as json"
   ]
  },
  {
   "cell_type": "code",
   "execution_count": 16,
   "id": "3e6ed661-9867-4fe3-8c47-f8467f0b265d",
   "metadata": {},
   "outputs": [],
   "source": [
    "def make_paragraph(p):\n",
    "    return ' '.join(p.xpath('.//text()'))\n",
    "\n",
    "\n",
    "def make_article(a):\n",
    "    qs = ' '.join(a.xpath('.//h2//text()'))\n",
    "    qs = re.sub(r'[ \\xa0]+', ' ', qs).strip()\n",
    "    \n",
    "    ps = map(make_paragraph, a.xpath('.//p'))\n",
    "    ps = '\\n\\n'.join(ps)\n",
    "    ps = re.sub(r'\\n\\n+', '\\n\\n', ps)\n",
    "    ps = re.sub(r'[ \\xa0]+', ' ', ps)\n",
    "    ps = ps.strip()\n",
    "    \n",
    "    return {'question': qs, 'answer': ps}\n",
    "\n",
    "\n",
    "def parse_articles(tree):\n",
    "    articles = tree.xpath('//div[@data-test=\"question-page\"]//article')\n",
    "    articles = [make_article(e) for e in articles]\n",
    "    return articles\n",
    "\n",
    "\n",
    "def process_page(path):\n",
    "    with open(path) as fd:\n",
    "        text = fd.read()\n",
    "    tree = lhtml.fromstring(text)\n",
    "    \n",
    "    title = tree.xpath('//h1/text()')[0].strip()\n",
    "    category = tree.xpath('//div[@role=\"navigation\"]//span[@data-item-type=\"breadcrumbs\"]//text()')\n",
    "    articles = parse_articles(tree)\n",
    "    \n",
    "    return {\n",
    "        'path': '/' + str(path).split('/', 1)[1],\n",
    "        'title': title,\n",
    "        'category': category,\n",
    "        'articles': articles,\n",
    "    }"
   ]
  },
  {
   "cell_type": "code",
   "execution_count": 17,
   "id": "0ed07c8d-b2dd-4d30-9c26-e04bef411f3d",
   "metadata": {
    "tags": []
   },
   "outputs": [
    {
     "data": {
      "application/vnd.jupyter.widget-view+json": {
       "model_id": "39f1300b2a5e46aaa845f7b81ad029e4",
       "version_major": 2,
       "version_minor": 0
      },
      "text/plain": [
       "  0%|          | 0/1520 [00:00<?, ?it/s]"
      ]
     },
     "metadata": {},
     "output_type": "display_data"
    },
    {
     "name": "stdout",
     "output_type": "stream",
     "text": [
      "Error `list index out of range` occured with: data/bank/help/debit-cards/junior/category/question-1\n",
      "Error `list index out of range` occured with: data/bank/help/debit-cards/junior/category/question-2\n",
      "Error `list index out of range` occured with: data/bank/help/debit-cards/junior/category/question-3\n",
      "Error `list index out of range` occured with: data/bank/help/debit-cards/tinkoff-black/additional-options/additional-card\n",
      "Error `list index out of range` occured with: data/bank/help/debit-cards/tinkoff-black/additional-options/cashback-for-charity\n",
      "Error `list index out of range` occured with: data/bank/help/debit-cards/tinkoff-black/additional-options/installment\n",
      "Error `list index out of range` occured with: data/bank/help/debit-cards/tinkoff-black/additional-options/koobyshka\n",
      "Error `list index out of range` occured with: data/bank/help/debit-cards/tinkoff-black/additional-options/overdraft\n",
      "Error `list index out of range` occured with: data/bank/help/debit-cards/tinkoff-black/additional-options/payment-sticker\n",
      "Error `list index out of range` occured with: data/bank/help/debit-cards/tinkoff-black/additional-options/request-and-collect\n",
      "Error `list index out of range` occured with: data/bank/help/debit-cards/tinkoff-black/additional-options/virtual-card\n",
      "Error `list index out of range` occured with: data/bank/help/debit-cards/tinkoff-black/category/additional-options\n",
      "Error `list index out of range` occured with: data/bank/help/debit-cards/tinkoff-black/category/get-statement\n",
      "Error `list index out of range` occured with: data/bank/help/debit-cards/tinkoff-black/category/protect-card\n",
      "Error `list index out of range` occured with: data/bank/help/debit-cards/tinkoff-black/category/question-1\n",
      "Error `list index out of range` occured with: data/bank/help/debit-cards/tinkoff-black/category/question-2\n",
      "Error `list index out of range` occured with: data/bank/help/debit-cards/tinkoff-black/category/question-3\n",
      "Error `list index out of range` occured with: data/bank/help/debit-cards/tinkoff-black/category/question-4\n",
      "Error `list index out of range` occured with: data/bank/help/debit-cards/tinkoff-black/category/question-5\n",
      "Error `list index out of range` occured with: data/bank/help/debit-cards/tinkoff-black/currency/add-currency\n",
      "Error `list index out of range` occured with: data/bank/help/debit-cards/tinkoff-black/currency/operations\n",
      "Error `list index out of range` occured with: data/bank/help/debit-cards/tinkoff-black/earn-with-card/cashback-intro\n",
      "Error `list index out of range` occured with: data/bank/help/debit-cards/tinkoff-black/earn-with-card/entertainment-cashback\n",
      "Error `list index out of range` occured with: data/bank/help/debit-cards/tinkoff-black/earn-with-card/interest-on-account\n",
      "Error `list index out of range` occured with: data/bank/help/debit-cards/tinkoff-black/earn-with-card/regular-cashback\n",
      "Error `list index out of range` occured with: data/bank/help/debit-cards/tinkoff-black/earn-with-card/special-cashback\n",
      "Error `list index out of range` occured with: data/bank/help/debit-cards/tinkoff-black/get-money/allowance\n",
      "Error `list index out of range` occured with: data/bank/help/debit-cards/tinkoff-black/get-money/pension\n",
      "Error `list index out of range` occured with: data/bank/help/debit-cards/tinkoff-black/get-money/salary\n",
      "Error `list index out of range` occured with: data/bank/help/debit-cards/tinkoff-black/get-money/topup\n",
      "Error `list index out of range` occured with: data/bank/help/debit-cards/tinkoff-black/get-statement/account-statement\n",
      "Error `list index out of range` occured with: data/bank/help/debit-cards/tinkoff-black/get-statement/find-details\n",
      "Error `list index out of range` occured with: data/bank/help/debit-cards/tinkoff-black/get-statement/reference\n",
      "Error `list index out of range` occured with: data/bank/help/debit-cards/tinkoff-black/get-tinkoff-black/apply-for-card\n",
      "Error `list index out of range` occured with: data/bank/help/debit-cards/tinkoff-black/get-tinkoff-black/get-card\n",
      "Error `list index out of range` occured with: data/bank/help/debit-cards/tinkoff-black/get-tinkoff-black/prepaid-card\n",
      "Error `list index out of range` occured with: data/bank/help/debit-cards/tinkoff-black/get-tinkoff-black/service-fee\n",
      "Error `list index out of range` occured with: data/bank/help/debit-cards/tinkoff-black/get-tinkoff-black/why-get-debit-card\n",
      "Error `list index out of range` occured with: data/bank/help/debit-cards/tinkoff-black/junior/get-card/application\n",
      "Error `list index out of range` occured with: data/bank/help/debit-cards/tinkoff-black/junior/get-card/benefits\n",
      "Error `list index out of range` occured with: data/bank/help/debit-cards/tinkoff-black/junior/get-card/delivery\n",
      "Error `list index out of range` occured with: data/bank/help/debit-cards/tinkoff-black/junior/get-card/service-fee\n",
      "Error `list index out of range` occured with: data/bank/help/debit-cards/tinkoff-black/junior/spend-money/app-payments\n",
      "Error `list index out of range` occured with: data/bank/help/debit-cards/tinkoff-black/junior/spend-money/withdraw-cash\n",
      "Error `list index out of range` occured with: data/bank/help/debit-cards/tinkoff-black/junior/top-up/cash\n",
      "Error `list index out of range` occured with: data/bank/help/debit-cards/tinkoff-black/junior/top-up/request-transfer\n",
      "Error `list index out of range` occured with: data/bank/help/debit-cards/tinkoff-black/junior/top-up/transfer\n",
      "Error `list index out of range` occured with: data/bank/help/debit-cards/tinkoff-black/junior/top-up/ways\n",
      "Error `list index out of range` occured with: data/bank/help/debit-cards/tinkoff-black/protect-card/bank-protect\n",
      "Error `list index out of range` occured with: data/bank/help/debit-cards/tinkoff-black/protect-card/change-pin\n",
      "Error `list index out of range` occured with: data/bank/help/debit-cards/tinkoff-black/protect-card/notifications\n",
      "Error `list index out of range` occured with: data/bank/help/debit-cards/tinkoff-black/protect-card/problems\n",
      "Error `list index out of range` occured with: data/bank/help/debit-cards/tinkoff-black/protect-card/reissue\n",
      "Error `list index out of range` occured with: data/bank/help/debit-cards/tinkoff-black/protect-card/self-protect\n",
      "Error `list index out of range` occured with: data/bank/help/debit-cards/tinkoff-black/protect-card/travel\n",
      "Error `list index out of range` occured with: data/bank/help/debit-cards/tinkoff-black/spend-money/pay-by-card\n",
      "Error `list index out of range` occured with: data/bank/help/debit-cards/tinkoff-black/spend-money/topup\n",
      "Error `list index out of range` occured with: data/bank/help/debit-cards/tinkoff-black/spend-money/transfer\n",
      "Error `list index out of range` occured with: data/bank/help/debit-cards/tinkoff-black/spend-money/withdraw\n",
      "Error `list index out of range` occured with: data/bank/help/interfaces/bank-app/money/get\n",
      "Error `list index out of range` occured with: data/bank/help/interfaces/bank-app/money/withdraw\n",
      "Error `list index out of range` occured with: data/bank/help/interfaces/bank-app/use/card\n",
      "Error `list index out of range` occured with: data/bank/help/loans/dolyame/for-customer/about\n",
      "Error `list index out of range` occured with: data/bank/help/loans/dolyame/for-customer/account\n",
      "Error `list index out of range` occured with: data/bank/help/loans/dolyame/for-customer/pay-purchase\n",
      "Error `list index out of range` occured with: data/bank/help/loans/dolyame/for-customer/refund\n",
      "Error `list index out of range` occured with: data/bank/help/receive-money\n",
      "Error `list index out of range` occured with: data/bank/help/transfer-money\n"
     ]
    }
   ],
   "source": [
    "with open('parsed_data.jsonl', mode='wb') as fd:\n",
    "    for path in tqdm(sorted(DATA_PATH.glob('**/*'))):\n",
    "        if not path.is_file():\n",
    "            continue\n",
    "        \n",
    "        try:\n",
    "            res = process_page(path)\n",
    "        except Exception as e:\n",
    "            print(f\"Error `{e}` occured with: {path}\")\n",
    "            continue\n",
    "        \n",
    "        res = json.dumps(res)\n",
    "        fd.write(res + b'\\n')"
   ]
  },
  {
   "cell_type": "code",
   "execution_count": 18,
   "id": "3fa2f566-6510-41cc-9137-ba1211ee4f93",
   "metadata": {},
   "outputs": [
    {
     "name": "stdout",
     "output_type": "stream",
     "text": [
      "    1041 parsed_data.jsonl\n",
      "      69\n"
     ]
    }
   ],
   "source": [
    "!wc -l parsed_data.jsonl\n",
    "!grep '\"articles\":\\[\\]' parsed_data.jsonl | wc -l"
   ]
  },
  {
   "cell_type": "code",
   "execution_count": 19,
   "id": "2affae81-9f57-4efe-abaa-16d8e1d5c300",
   "metadata": {},
   "outputs": [
    {
     "name": "stdout",
     "output_type": "stream",
     "text": [
      "18440 -rw-r--r--  1 vladimir  staff   8,2M  3 авг 01:08 parsed_data.jsonl\n"
     ]
    }
   ],
   "source": [
    "!ls -lsh parsed_data.jsonl"
   ]
  },
  {
   "cell_type": "markdown",
   "id": "b4a992a1-64db-4229-928e-449bf1845cf9",
   "metadata": {},
   "source": [
    "### Convert To QA-format"
   ]
  },
  {
   "cell_type": "code",
   "execution_count": 20,
   "id": "27c706fe-cac0-41b8-b327-eded58d3212f",
   "metadata": {},
   "outputs": [],
   "source": [
    "with open('parsed_data.jsonl', mode='r') as fd, \\\n",
    "     open('parsed_data_conv.jsonl', mode='wb') as fb:\n",
    "    for record_str in fd:\n",
    "        record = json.loads(record_str)\n",
    "        if not record[\"articles\"]:\n",
    "            continue\n",
    "        \n",
    "        messages = [e for e in record[\"articles\"] if e[\"question\"] and e[\"answer\"]]\n",
    "        for i, e in enumerate(messages, 1):\n",
    "            message = {\n",
    "                \"path\": record[\"path\"],\n",
    "                \"qpos\": i,\n",
    "                \"content\": e[\"question\"] + \"\\n\\n\" + e[\"answer\"],\n",
    "            }\n",
    "            message_str = json.dumps(message)\n",
    "            \n",
    "            fb.write(message_str)\n",
    "            fb.write(b'\\n')"
   ]
  },
  {
   "cell_type": "markdown",
   "id": "d114b236-a2be-4d4e-bfb4-a96804bff43b",
   "metadata": {},
   "source": [
    "## Prepare Index"
   ]
  },
  {
   "cell_type": "code",
   "execution_count": 21,
   "id": "ed07d38a-ffd8-47f9-9da2-df5958df180b",
   "metadata": {},
   "outputs": [
    {
     "data": {
      "text/plain": [
       "True"
      ]
     },
     "execution_count": 21,
     "metadata": {},
     "output_type": "execute_result"
    }
   ],
   "source": [
    "from dotenv import load_dotenv\n",
    "\n",
    "load_dotenv()"
   ]
  },
  {
   "cell_type": "code",
   "execution_count": 22,
   "id": "8240f363-abd9-4f74-82c9-b9701ca23f67",
   "metadata": {},
   "outputs": [],
   "source": [
    "from langchain.document_loaders import JSONLoader\n",
    "from langchain.text_splitter import CharacterTextSplitter\n",
    "from langchain.embeddings import OpenAIEmbeddings\n",
    "from langchain.vectorstores import FAISS"
   ]
  },
  {
   "cell_type": "code",
   "execution_count": 23,
   "id": "9b4a4ecf-65bc-4693-8cd6-1e7bf2daeb0a",
   "metadata": {},
   "outputs": [
    {
     "data": {
      "text/plain": [
       "5663"
      ]
     },
     "execution_count": 23,
     "metadata": {},
     "output_type": "execute_result"
    }
   ],
   "source": [
    "def metadata_func(record: dict, metadata: dict) -> dict:\n",
    "    metadata[\"source\"] = record.get(\"path\")\n",
    "    metadata[\"seq_num\"] = record.get(\"qpos\")\n",
    "    return metadata\n",
    "\n",
    "\n",
    "loader = JSONLoader(\n",
    "    file_path=\"parsed_data_conv.jsonl\",\n",
    "    jq_schema=\".\",\n",
    "    content_key=\"content\",\n",
    "    metadata_func=metadata_func,\n",
    "    json_lines=True,\n",
    ")\n",
    "\n",
    "documents = loader.load()\n",
    "len(documents)"
   ]
  },
  {
   "cell_type": "code",
   "execution_count": 24,
   "id": "b08992e9-9aed-4fef-aeb4-8e727721ae17",
   "metadata": {},
   "outputs": [
    {
     "data": {
      "text/plain": [
       "7865"
      ]
     },
     "execution_count": 24,
     "metadata": {},
     "output_type": "execute_result"
    }
   ],
   "source": [
    "splitter = CharacterTextSplitter(\n",
    "    separator=\"\\n\\n\",\n",
    "    chunk_size=1000,\n",
    "    chunk_overlap=200,\n",
    "    length_function=len,\n",
    ")\n",
    "\n",
    "chunks = splitter.split_documents(documents)\n",
    "len(chunks)"
   ]
  },
  {
   "cell_type": "code",
   "execution_count": 25,
   "id": "9c86852b-6509-4955-8341-9c31c0edd1df",
   "metadata": {},
   "outputs": [
    {
     "name": "stderr",
     "output_type": "stream",
     "text": [
      "Retrying langchain.embeddings.openai.embed_with_retry.<locals>._embed_with_retry in 4.0 seconds as it raised RateLimitError: Rate limit reached for default-text-embedding-ada-002 in organization org-pvyCwgUnULtNqPkr8NteKGLT on tokens per min. Limit: 1000000 / min. Current: 716014 / min. Contact us through our help center at help.openai.com if you continue to have issues..\n"
     ]
    }
   ],
   "source": [
    "embeddings = OpenAIEmbeddings()\n",
    "\n",
    "documents_idx = FAISS.from_documents(documents=chunks, embedding=embeddings)\n",
    "documents_idx.save_local(\"parsed_data_conv.idx\")"
   ]
  },
  {
   "cell_type": "code",
   "execution_count": null,
   "id": "7fa8bf1b-54e0-4ed7-a095-fd6c8f3e8cf5",
   "metadata": {},
   "outputs": [],
   "source": []
  }
 ],
 "metadata": {
  "kernelspec": {
   "display_name": "Python 3 (ipykernel)",
   "language": "python",
   "name": "python3"
  },
  "language_info": {
   "codemirror_mode": {
    "name": "ipython",
    "version": 3
   },
   "file_extension": ".py",
   "mimetype": "text/x-python",
   "name": "python",
   "nbconvert_exporter": "python",
   "pygments_lexer": "ipython3",
   "version": "3.8.13"
  }
 },
 "nbformat": 4,
 "nbformat_minor": 5
}
